{
 "cells": [
  {
   "cell_type": "code",
   "execution_count": 16,
   "metadata": {},
   "outputs": [],
   "source": [
    "import torch\n",
    "import torch.optim as optim\n",
    "import torch.nn as nn\n",
    "from functions import base_functions"
   ]
  },
  {
   "cell_type": "code",
   "execution_count": 17,
   "metadata": {},
   "outputs": [
    {
     "ename": "IndentationError",
     "evalue": "expected an indented block (3544109283.py, line 9)",
     "output_type": "error",
     "traceback": [
      "\u001b[0;36m  Cell \u001b[0;32mIn [17], line 9\u001b[0;36m\u001b[0m\n\u001b[0;31m    \u001b[0m\n\u001b[0m    ^\u001b[0m\n\u001b[0;31mIndentationError\u001b[0m\u001b[0;31m:\u001b[0m expected an indented block\n"
     ]
    }
   ],
   "source": [
    "class SymbolicLayer:\n",
    "    def __init__(self, input_size, output_size, functions: list):\n",
    "        self.fc = nn.Linear(input_size, output_size)\n",
    "        self.W = torch.randn(input_size, output_size)\n",
    "        self.functions = functions\n",
    "\n",
    "        one_input = []\n",
    "        two_inputs = []\n",
    "\n",
    "        # Check how many inputs each function have\n",
    "        for f in functions:\n",
    "            if f.n_inputs == 1:\n",
    "                one_input.append(f)\n",
    "            if f.n_inputs == 2:\n",
    "                two_inputs.append(f)\n",
    "        \n",
    "        # Adjust number of layers according to function inputs\n",
    "        self.input_size = input_size + len(two_inputs)\n",
    "        self.output_size = output_size\n",
    "\n",
    "    def forward(self, x):\n",
    "        for i in range(x):\n"
   ]
  },
  {
   "cell_type": "code",
   "execution_count": null,
   "metadata": {},
   "outputs": [],
   "source": [
    "class SymbolicNet(torch.nn.Module):\n",
    "    def __init__(self, input_size, hidden_size, output_size, functions: list):\n",
    "        super(SymbolicNet, self).__init__()\n",
    "        self.input_size = input_size\n",
    "        self.hidden_size = hidden_size\n",
    "        self.output_size = output_size\n",
    "        self.functions = functions\n",
    "        self.fc1 = torch.nn.Linear(input_size, hidden_size)\n",
    "\n",
    "    def forward(self, x):\n",
    "        output_1 = self.fc1(x)\n",
    "        output_2 = []\n",
    "        for f, x in zip(self.functions, output_1):\n",
    "            x = torch.tensor([x])\n",
    "            output_2.append(f(x))\n",
    "        output = torch.sum(torch.tensor(output_2))\n",
    "        return output\n",
    "    \n",
    "    def train(self, samples, true, epochs=100, lr=0.01):\n",
    "        optimizer = optim.SGD(self.parameters(), lr=lr)\n",
    "        loss_fn = nn.MSELoss()\n",
    "        for epoch in range(epochs):\n",
    "            for x, y in zip(samples, true):\n",
    "                x = torch.tensor([x])\n",
    "                y = torch.tensor([y])\n",
    "                optimizer.zero_grad()\n",
    "                output = self.forward(x)\n",
    "                loss = loss_fn(output, y)\n",
    "                loss.backward()\n",
    "                optimizer.step()\n",
    "                if epoch % 10 == 0:\n",
    "                    print(f'Epoch: {epoch} Loss: {loss.item()}')"
   ]
  },
  {
   "cell_type": "code",
   "execution_count": null,
   "metadata": {},
   "outputs": [],
   "source": [
    "functions = [torch.square, torch.absolute, torch.sin, torch.cos]\n",
    "\n",
    "samples = torch.randn(1, 100)\n",
    "output = torch.square(samples)"
   ]
  },
  {
   "cell_type": "code",
   "execution_count": null,
   "metadata": {},
   "outputs": [],
   "source": [
    "model = SymbolicNet(1, 4, 1, functions)"
   ]
  },
  {
   "cell_type": "code",
   "execution_count": null,
   "metadata": {},
   "outputs": [
    {
     "data": {
      "text/plain": [
       "tensor(1.8037)"
      ]
     },
     "execution_count": 15,
     "metadata": {},
     "output_type": "execute_result"
    }
   ],
   "source": [
    "model(torch.tensor([2.0]))"
   ]
  },
  {
   "cell_type": "code",
   "execution_count": null,
   "metadata": {},
   "outputs": [],
   "source": []
  }
 ],
 "metadata": {
  "kernelspec": {
   "display_name": "Python 3.9.0 ('DeepSymRegTorch')",
   "language": "python",
   "name": "python3"
  },
  "language_info": {
   "codemirror_mode": {
    "name": "ipython",
    "version": 3
   },
   "file_extension": ".py",
   "mimetype": "text/x-python",
   "name": "python",
   "nbconvert_exporter": "python",
   "pygments_lexer": "ipython3",
   "version": "3.9.0"
  },
  "orig_nbformat": 4,
  "vscode": {
   "interpreter": {
    "hash": "6b4db621caefd3705a45ea4d2a14764009383dc3d2acbbbf10d1899e58c43065"
   }
  }
 },
 "nbformat": 4,
 "nbformat_minor": 2
}
