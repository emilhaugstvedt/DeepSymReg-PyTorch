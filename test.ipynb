{
 "cells": [
  {
   "cell_type": "code",
   "execution_count": 1,
   "metadata": {},
   "outputs": [],
   "source": [
    "import torch\n",
    "import torch.nn as nn"
   ]
  },
  {
   "cell_type": "code",
   "execution_count": 2,
   "metadata": {},
   "outputs": [],
   "source": [
    "class MyLayer(nn.Module):\n",
    "    def __init__(self, input_size, output_size, functions) -> None:\n",
    "        super().__init__()\n",
    "        self.functions = functions\n",
    "        self.n_functions = len(functions)\n",
    "        self.weights = nn.Parameter(torch.ones(input_size, self.n_functions))\n",
    "\n",
    "        self.output = None\n",
    "\n",
    "    def forward(self, x):\n",
    "\n",
    "        self.output = []\n",
    "\n",
    "        x = torch.matmul(x, self.weights)\n",
    "\n",
    "        for i in range(self.n_functions):\n",
    "            self.output.append(self.functions[i](x[i]))\n",
    "        \n",
    "        return torch.stack(self.output)"
   ]
  },
  {
   "cell_type": "code",
   "execution_count": 3,
   "metadata": {},
   "outputs": [],
   "source": [
    "class MyNetwork(nn.Module):\n",
    "    def __init__(self, input_size, output_size, functions) -> None:\n",
    "        super().__init__()\n",
    "        self.layer = MyLayer(input_size, output_size, functions)\n",
    "    \n",
    "    def forward(self, x):\n",
    "        return self.layer(x)\n",
    "    \n",
    "    def get_weights(self):\n",
    "        return self.layer.weights"
   ]
  },
  {
   "cell_type": "code",
   "execution_count": 4,
   "metadata": {},
   "outputs": [],
   "source": [
    "# Generate data and train the network\n",
    "functions = [torch.sqrt, torch.sin]\n",
    "net = MyNetwork(10, 2, functions)\n",
    "optimizer = torch.optim.SGD(net.parameters(), lr=0.01)\n",
    "criterion = nn.MSELoss()\n",
    "for i in range(1000):\n",
    "    optimizer.zero_grad()\n",
    "    y_hat = net(torch.ones(10))\n",
    "    loss = criterion(y_hat, torch.ones(2))\n",
    "    loss.backward()\n",
    "    optimizer.step()"
   ]
  },
  {
   "cell_type": "code",
   "execution_count": 5,
   "metadata": {},
   "outputs": [
    {
     "name": "stdout",
     "output_type": "stream",
     "text": [
      "[Parameter containing:\n",
      "tensor([[0.1000, 0.7955],\n",
      "        [0.1000, 0.7955],\n",
      "        [0.1000, 0.7955],\n",
      "        [0.1000, 0.7955],\n",
      "        [0.1000, 0.7955],\n",
      "        [0.1000, 0.7955],\n",
      "        [0.1000, 0.7955],\n",
      "        [0.1000, 0.7955],\n",
      "        [0.1000, 0.7955],\n",
      "        [0.1000, 0.7955]], requires_grad=True)]\n"
     ]
    }
   ],
   "source": [
    "print(list(net.parameters()))"
   ]
  },
  {
   "cell_type": "code",
   "execution_count": null,
   "metadata": {},
   "outputs": [],
   "source": []
  },
  {
   "cell_type": "code",
   "execution_count": null,
   "metadata": {},
   "outputs": [],
   "source": []
  }
 ],
 "metadata": {
  "kernelspec": {
   "display_name": "Python 3.9.0 ('DeepSymRegTorch')",
   "language": "python",
   "name": "python3"
  },
  "language_info": {
   "codemirror_mode": {
    "name": "ipython",
    "version": 3
   },
   "file_extension": ".py",
   "mimetype": "text/x-python",
   "name": "python",
   "nbconvert_exporter": "python",
   "pygments_lexer": "ipython3",
   "version": "3.9.0"
  },
  "orig_nbformat": 4,
  "vscode": {
   "interpreter": {
    "hash": "6b4db621caefd3705a45ea4d2a14764009383dc3d2acbbbf10d1899e58c43065"
   }
  }
 },
 "nbformat": 4,
 "nbformat_minor": 2
}
