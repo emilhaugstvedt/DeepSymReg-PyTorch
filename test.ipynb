{
 "cells": [
  {
   "cell_type": "code",
   "execution_count": 86,
   "metadata": {},
   "outputs": [
    {
     "data": {
      "text/plain": [
       "<torch.autograd.anomaly_mode.set_detect_anomaly at 0x7feb329dc2b0>"
      ]
     },
     "execution_count": 86,
     "metadata": {},
     "output_type": "execute_result"
    }
   ],
   "source": [
    "import torch\n",
    "import torch.optim as optim\n",
    "import torch.nn as nn\n",
    "from functions import base_functions\n",
    "from tqdm import tqdm"
   ]
  },
  {
   "cell_type": "code",
   "execution_count": 87,
   "metadata": {},
   "outputs": [],
   "source": [
    "from numpy import double\n",
    "\n",
    "class SymbolicLayer(nn.Module):\n",
    "    def __init__(self, input_size, output_size, functions: list):\n",
    "        super().__init__()\n",
    "        self.functions = [func for func in functions]\n",
    "        self.n_funcs = len(self.functions)\n",
    "        self.output = None\n",
    "        self.input_size = input_size\n",
    "\n",
    "        self.single_input = []\n",
    "        self.double_input = []\n",
    "\n",
    "        # Check how many inputs each function have\n",
    "        for f in functions:\n",
    "            if f.n_inputs == 1: \n",
    "                self.single_input.append(f)\n",
    "            if f.n_inputs == 2:\n",
    "                self.double_input.append(f)\n",
    "        \n",
    "        self.n_single = len(self.single_input)\n",
    "        self.n_double = len(self.double_input)\n",
    "        \n",
    "        # Adjust number of layers according to function inputs\n",
    "        self.output_size = output_size\n",
    "        self.W = torch.nn.Parameter(data=torch.ones((self.input_size, self.n_single + self.n_double * 2), requires_grad=True))\n",
    "\n",
    "    def __call__(self, x):\n",
    "\n",
    "        self.output = torch.tensor([])\n",
    "        \n",
    "        g = self.W.mul(x)\n",
    "\n",
    "        out_i = in_i = 0\n",
    "\n",
    "        while out_i  < self.n_single:\n",
    "            self.output = torch.cat((self.output, (self.single_input[out_i].torch(g[:,in_i]))))\n",
    "            out_i += 1\n",
    "            in_i +=1\n",
    "\n",
    "        while out_i < self.n_funcs:\n",
    "            self.output = torch.cat((self.output, self.functions[out_i].torch(g[:,in_i], g[:,in_i + 1])))\n",
    "            out_i += 1\n",
    "            in_i += 2\n",
    "\n",
    "        self.output = torch.stack([torch.tensor([torch.sum(self.output)]) for out in range(self.output_size)], )\n",
    "        return self.output"
   ]
  },
  {
   "cell_type": "code",
   "execution_count": 88,
   "metadata": {},
   "outputs": [],
   "source": [
    "class SymbolicNet(torch.nn.Module):\n",
    "    def __init__(self, input_size, hidden_size, output_size, functions: list):\n",
    "        super(SymbolicNet, self).__init__()\n",
    "        self.input_size = input_size\n",
    "        self.output_size = output_size\n",
    "        self.functions = functions\n",
    "        self.n_funcs = len(functions)\n",
    "        self.output_W = torch.nn.Parameter(data=torch.ones(self.n_funcs, self.output_size))\n",
    "        self.fc1 = SymbolicLayer(input_size, hidden_size, functions)\n",
    "        self.fc2 = SymbolicLayer(hidden_size, output_size, functions)\n",
    "\n",
    "    def forward(self, x):\n",
    "        x = self.fc1(x)\n",
    "        x = self.fc2(x)\n",
    "        x = torch.tensor([x])\n",
    "        return x\n",
    "    \n",
    "    def train(self, x, y, epochs=100, lr=0.01):\n",
    "        optimizer = optim.SGD(self.parameters(), lr=lr)\n",
    "        loss_fn = nn.MSELoss()\n",
    "        for epoch in range(epochs):\n",
    "            total_loss = 0\n",
    "            for i in range(len(x)):\n",
    "                optimizer.zero_grad()\n",
    "                output = self.forward(x[i])\n",
    "                loss = loss_fn(output, y[i])\n",
    "                loss.backward()\n",
    "                optimizer.step()\n",
    "\n",
    "                total_loss += loss.item()\n",
    "        \n",
    "            if epoch % 10 == 0:\n",
    "                print(f'Epoch: {epoch} Loss: {loss.item()}')"
   ]
  },
  {
   "cell_type": "code",
   "execution_count": 89,
   "metadata": {},
   "outputs": [],
   "source": [
    "model = SymbolicNet(1, 10, 1, base_functions)"
   ]
  },
  {
   "cell_type": "code",
   "execution_count": 85,
   "metadata": {},
   "outputs": [
    {
     "name": "stderr",
     "output_type": "stream",
     "text": [
      "/tmp/ipykernel_31112/4191838912.py:2: UserWarning: To copy construct from a tensor, it is recommended to use sourceTensor.clone().detach() or sourceTensor.clone().detach().requires_grad_(True), rather than torch.tensor(sourceTensor).\n",
      "  y = torch.tensor(torch.square(x), requires_grad=True)\n"
     ]
    },
    {
     "name": "stdout",
     "output_type": "stream",
     "text": [
      "Epoch: 0 Loss: 9762646016.0\n",
      "Epoch: 10 Loss: 9762646016.0\n",
      "Epoch: 20 Loss: 9762646016.0\n",
      "Epoch: 30 Loss: 9762646016.0\n",
      "Epoch: 40 Loss: 9762646016.0\n",
      "Epoch: 50 Loss: 9762646016.0\n",
      "Epoch: 60 Loss: 9762646016.0\n",
      "Epoch: 70 Loss: 9762646016.0\n",
      "Epoch: 80 Loss: 9762646016.0\n",
      "Epoch: 90 Loss: 9762646016.0\n"
     ]
    }
   ],
   "source": [
    "\n",
    "x = torch.tensor([1, 2, 3, 4, 5, 6, 7, 8, 9, 10], dtype=torch.float32, requires_grad=True)\n",
    "y = torch.tensor(torch.square(x), requires_grad=True)\n",
    "\n",
    "model.train(x, y)"
   ]
  }
 ],
 "metadata": {
  "kernelspec": {
   "display_name": "Python 3.10.4 ('DeepSymRegTorch')",
   "language": "python",
   "name": "python3"
  },
  "language_info": {
   "codemirror_mode": {
    "name": "ipython",
    "version": 3
   },
   "file_extension": ".py",
   "mimetype": "text/x-python",
   "name": "python",
   "nbconvert_exporter": "python",
   "pygments_lexer": "ipython3",
   "version": "3.10.4"
  },
  "orig_nbformat": 4,
  "vscode": {
   "interpreter": {
    "hash": "cfe3f2d034d7f08cf4e8bbdc4fcc7d8751423223aa6c022b5b920f9310d09bb3"
   }
  }
 },
 "nbformat": 4,
 "nbformat_minor": 2
}
