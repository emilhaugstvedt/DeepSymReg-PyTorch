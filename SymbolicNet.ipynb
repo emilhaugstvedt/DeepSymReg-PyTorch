{
 "cells": [
  {
   "cell_type": "code",
   "execution_count": 1,
   "metadata": {},
   "outputs": [],
   "source": [
    "import torch\n",
    "import torch.optim as optim\n",
    "import torch.nn as nn\n",
    "from functions import base_functions\n",
    "from tqdm import tqdm\n",
    "import math\n",
    "from sklearn.linear_model import LinearRegression\n",
    "from SymbolicNet import SymbolicNet\n",
    "import pandas as pd\n",
    "import numpy as np"
   ]
  },
  {
   "cell_type": "code",
   "execution_count": 2,
   "metadata": {},
   "outputs": [],
   "source": [
    "x = torch.tensor(pd.read_csv(\"x_and_u.csv\", header=None).to_numpy(dtype=np.float32))\n",
    "y = torch.tensor(pd.read_csv(\"x_dot.csv\", header=None).to_numpy(dtype=np.float32))"
   ]
  },
  {
   "cell_type": "code",
   "execution_count": 4,
   "metadata": {},
   "outputs": [],
   "source": [
    "features = base_functions\n",
    "x_temp = []\n",
    "\n",
    "# Engineer features\n",
    "x_engineered = torch.stack([feature.torch(x) for feature in features], dim=1)\n",
    " \n",
    "#x = x.view(-1, 1)"
   ]
  },
  {
   "cell_type": "code",
   "execution_count": 5,
   "metadata": {},
   "outputs": [
    {
     "name": "stdout",
     "output_type": "stream",
     "text": [
      "49990\n"
     ]
    }
   ],
   "source": [
    "print(len(x_engineered))"
   ]
  },
  {
   "cell_type": "code",
   "execution_count": 7,
   "metadata": {},
   "outputs": [
    {
     "name": "stdout",
     "output_type": "stream",
     "text": [
      "torch.Size([49990, 3, 13])\n"
     ]
    }
   ],
   "source": [
    "print(x_engineered.shape)"
   ]
  },
  {
   "cell_type": "code",
   "execution_count": 2,
   "metadata": {},
   "outputs": [],
   "source": [
    "from sklearn.linear_model import LinearRegression\n",
    "\n",
    "linear_model = LinearRegression()"
   ]
  },
  {
   "cell_type": "code",
   "execution_count": 5,
   "metadata": {},
   "outputs": [
    {
     "data": {
      "text/plain": [
       "torch.Size([49990, 13])"
      ]
     },
     "execution_count": 5,
     "metadata": {},
     "output_type": "execute_result"
    }
   ],
   "source": [
    "x.shape"
   ]
  },
  {
   "cell_type": "code",
   "execution_count": 6,
   "metadata": {},
   "outputs": [],
   "source": [
    "coefs = []\n",
    "for i in range(y.shape[1]):\n",
    "    y_coefs = []\n",
    "    for j in range(x_engineered.shape[2]):\n",
    "        linear_model.fit(x_engineered[:, :, j], y[:, i])\n",
    "        y_coefs.append(linear_model.coef_)\n",
    "    coefs.append(y_coefs)"
   ]
  },
  {
   "cell_type": "code",
   "execution_count": 9,
   "metadata": {},
   "outputs": [
    {
     "data": {
      "text/plain": [
       "[[array([ 0.0173217 ,  0.07428496, -0.04577153], dtype=float32),\n",
       "  array([ 0.10448315, -0.07413026, -0.0295673 ], dtype=float32),\n",
       "  array([-0.16026908, -0.18149248,  0.1630214 ], dtype=float32),\n",
       "  array([ 0.07454333,  0.17785338, -0.13899475], dtype=float32),\n",
       "  array([ 0.16653283,  0.64512575, -0.54418916], dtype=float32),\n",
       "  array([ 0.23605353,  0.9538725 , -0.99171895], dtype=float32),\n",
       "  array([-0.15576021,  0.07620607,  0.09433444], dtype=float32),\n",
       "  array([-0.16118358, -0.05044907,  0.10193407], dtype=float32),\n",
       "  array([-5.9782948e-31,  1.6543612e-24, -2.1815537e-17], dtype=float32),\n",
       "  array([-0.0626258 , -0.47194093,  0.11676586], dtype=float32),\n",
       "  array([-7.1449406e-41,  0.0000000e+00, -1.3801471e-22], dtype=float32),\n",
       "  array([1.2188494e-41, 0.0000000e+00, 2.7224975e-23], dtype=float32),\n",
       "  array([ 0.13153484,  0.0148347 , -0.07950458], dtype=float32)],\n",
       " [array([-0.00491302, -0.00734284,  0.00734222], dtype=float32),\n",
       "  array([ 0.04124124, -0.05128219, -0.00822325], dtype=float32),\n",
       "  array([ 0.01290575,  0.01306249, -0.00957659], dtype=float32),\n",
       "  array([ 0.01170824,  0.02684723, -0.01919615], dtype=float32),\n",
       "  array([ 0.01680805,  0.04159453, -0.02720191], dtype=float32),\n",
       "  array([-0.02179573, -0.08952384,  0.08399975], dtype=float32),\n",
       "  array([ 0.00683103,  0.01182733, -0.00663265], dtype=float32),\n",
       "  array([ 0.00618084,  0.00821864, -0.00539922], dtype=float32),\n",
       "  array([ 1.9541078e-29, -5.2939559e-23,  7.1307813e-16], dtype=float32),\n",
       "  array([-0.00422195, -0.00811011,  0.00718383], dtype=float32),\n",
       "  array([-1.5736582e-42,  0.0000000e+00, -3.0410201e-24], dtype=float32),\n",
       "  array([-3.364518e-42,  0.000000e+00, -7.514418e-24], dtype=float32),\n",
       "  array([-0.02576536, -0.04523826,  0.03390416], dtype=float32)],\n",
       " [array([-0.00724183, -0.00720741,  0.00254741], dtype=float32),\n",
       "  array([ 0.00866204,  0.01126576, -0.00159309], dtype=float32),\n",
       "  array([ 0.07443091,  0.07736616, -0.06833795], dtype=float32),\n",
       "  array([ 0.00606868,  0.02134198, -0.01263243], dtype=float32),\n",
       "  array([ 0.04214588,  0.08344106, -0.06932813], dtype=float32),\n",
       "  array([-0.07292458, -0.25961363,  0.2038558 ], dtype=float32),\n",
       "  array([ 0.00425117,  0.01340722, -0.00540736], dtype=float32),\n",
       "  array([-0.01345456,  0.00291427,  0.00399009], dtype=float32),\n",
       "  array([ 9.4579275e-30, -2.6469780e-23,  3.4513149e-16], dtype=float32),\n",
       "  array([ 0.0105777 ,  0.05391327, -0.03124709], dtype=float32),\n",
       "  array([5.4180617e-39, 0.0000000e+00, 1.0465729e-20], dtype=float32),\n",
       "  array([-2.335965e-42,  0.000000e+00, -5.216559e-24], dtype=float32),\n",
       "  array([-0.01514638, -0.00514165,  0.00164912], dtype=float32)],\n",
       " [array([-0.01759104, -0.07426192,  0.04596758], dtype=float32),\n",
       "  array([-0.0996668 ,  0.06875419,  0.02851313], dtype=float32),\n",
       "  array([ 0.15974295,  0.18078257, -0.16218984], dtype=float32),\n",
       "  array([-0.07271652, -0.17351764,  0.13581052], dtype=float32),\n",
       "  array([-0.16329521, -0.6347548 ,  0.5361082 ], dtype=float32),\n",
       "  array([-0.23544241, -0.95155334,  0.9886547 ], dtype=float32),\n",
       "  array([ 0.15477957, -0.074285  , -0.09396964], dtype=float32),\n",
       "  array([ 0.16009408,  0.05073702, -0.10138102], dtype=float32),\n",
       "  array([ 2.3525347e-30, -6.6174449e-24,  8.5846908e-17], dtype=float32),\n",
       "  array([ 0.06157507,  0.4664184 , -0.11486843], dtype=float32),\n",
       "  array([7.055678e-41, 0.000000e+00, 1.362896e-22], dtype=float32),\n",
       "  array([-1.2369262e-41,  0.0000000e+00, -2.7629837e-23], dtype=float32),\n",
       "  array([-0.13242082, -0.01867597,  0.08165115], dtype=float32)],\n",
       " [array([-0.00904412, -0.01527854,  0.00968277], dtype=float32),\n",
       "  array([ 0.00658978,  0.00242817, -0.00153395], dtype=float32),\n",
       "  array([ 0.00854893,  0.00725019, -0.00840593], dtype=float32),\n",
       "  array([ 0.00601408,  0.02541799, -0.01967787], dtype=float32),\n",
       "  array([ 0.10176751,  0.40848815, -0.37405485], dtype=float32),\n",
       "  array([-0.01146401, -0.03210451,  0.02189604], dtype=float32),\n",
       "  array([-0.00581342,  0.00786916, -0.0012771 ], dtype=float32),\n",
       "  array([-0.00786466,  0.00517893,  0.00072247], dtype=float32),\n",
       "  array([ 1.2198703e-32, -5.1698788e-26,  4.4514575e-19], dtype=float32),\n",
       "  array([ 0.00830051,  0.01392151, -0.00690824], dtype=float32),\n",
       "  array([2.672276e-42, 0.000000e+00, 5.161349e-24], dtype=float32),\n",
       "  array([-4.005976e-39,  0.000000e+00, -8.948056e-21], dtype=float32),\n",
       "  array([-0.00304345,  0.00316961, -0.00518096], dtype=float32)],\n",
       " [array([-0.08489153,  0.01162571,  0.21474956], dtype=float32),\n",
       "  array([ 0.32245305, -0.43936574, -0.04974141], dtype=float32),\n",
       "  array([ 0.09435527,  0.20638368, -0.14017387], dtype=float32),\n",
       "  array([ 0.08178154,  0.37602395, -0.34167814], dtype=float32),\n",
       "  array([ 0.18454906,  0.44648004, -0.3676609 ], dtype=float32),\n",
       "  array([ 0.13439068,  0.59249616, -0.5059459 ], dtype=float32),\n",
       "  array([-0.02771517,  0.07782774, -0.03844415], dtype=float32),\n",
       "  array([ 0.17987409, -0.01439297, -0.11089923], dtype=float32),\n",
       "  array([-2.8004648e-31,  8.2718061e-25, -1.0219243e-17], dtype=float32),\n",
       "  array([ 0.04816736,  0.5453501 , -0.13792342], dtype=float32),\n",
       "  array([3.6027384e-41, 0.0000000e+00, 6.9591416e-23], dtype=float32),\n",
       "  array([-2.8168902e-41,  0.0000000e+00, -6.2919016e-23], dtype=float32),\n",
       "  array([ 0.27177072,  0.86089927, -0.5821568 ], dtype=float32)],\n",
       " [array([ 0.04773983, -0.15240599, -0.06387413], dtype=float32),\n",
       "  array([-0.04005883,  0.0645678 , -0.00438826], dtype=float32),\n",
       "  array([-0.15134561, -0.1610036 ,  0.13044496], dtype=float32),\n",
       "  array([-0.04496498, -0.09376396,  0.14985129], dtype=float32),\n",
       "  array([ 0.01473718,  0.16203499, -0.14724943], dtype=float32),\n",
       "  array([ 0.41740382,  1.4508361 , -1.0446764 ], dtype=float32),\n",
       "  array([ 0.02556946,  0.0150807 , -0.00380225], dtype=float32),\n",
       "  array([ 0.01465016,  0.11113727, -0.00929441], dtype=float32),\n",
       "  array([ 2.6801257e-31, -8.2718061e-25,  9.7801096e-18], dtype=float32),\n",
       "  array([ 0.0491927 ,  0.08383133, -0.01643318], dtype=float32),\n",
       "  array([-6.2772566e-41,  0.0000000e+00, -1.2125438e-22], dtype=float32),\n",
       "  array([1.6444237e-41, 0.0000000e+00, 3.6732494e-23], dtype=float32),\n",
       "  array([ 0.03361457, -0.04101571,  0.03450802], dtype=float32)],\n",
       " [array([ 0.15226458, -0.2223934 , -0.16403823], dtype=float32),\n",
       "  array([-0.0786438 ,  0.24897376, -0.00740889], dtype=float32),\n",
       "  array([-0.02031093, -0.04295833, -0.00711264], dtype=float32),\n",
       "  array([-0.29374242, -0.7742268 ,  0.68937486], dtype=float32),\n",
       "  array([-0.14393115, -0.55930305,  0.40312153], dtype=float32),\n",
       "  array([ 0.1927263 ,  0.6041654 , -0.10758594], dtype=float32),\n",
       "  array([ 0.15663584,  0.05555215, -0.08455703], dtype=float32),\n",
       "  array([ 0.09523027,  0.19385721, -0.0563883 ], dtype=float32),\n",
       "  array([-2.5045546e-31,  8.2718061e-25, -9.1394301e-18], dtype=float32),\n",
       "  array([ 0.13284089,  0.7752187 , -0.2111834 ], dtype=float32),\n",
       "  array([7.7930411e-41, 0.0000000e+00, 1.5053241e-22], dtype=float32),\n",
       "  array([5.526721e-42, 0.000000e+00, 1.234412e-23], dtype=float32),\n",
       "  array([-0.19458008, -0.17011099,  0.21745288], dtype=float32)]]"
      ]
     },
     "execution_count": 9,
     "metadata": {},
     "output_type": "execute_result"
    }
   ],
   "source": [
    "coefs"
   ]
  },
  {
   "cell_type": "code",
   "execution_count": 34,
   "metadata": {},
   "outputs": [],
   "source": [
    "thetas = linear_model.coef_"
   ]
  },
  {
   "cell_type": "code",
   "execution_count": 8,
   "metadata": {},
   "outputs": [],
   "source": [
    "# Create list where features are sorted by importance\n",
    "features = [[feature, importance] for feature, importance in zip(features, thetas)]\n",
    "features.sort(key=lambda x: abs(x[1]), reverse=True)"
   ]
  },
  {
   "cell_type": "code",
   "execution_count": 9,
   "metadata": {},
   "outputs": [],
   "source": [
    "from functions import Constant\n",
    "\n",
    "optimal_features = [feature for feature in features if feature[1] > 0.05 or type(feature[0]) == type(Constant())]"
   ]
  },
  {
   "cell_type": "code",
   "execution_count": 10,
   "metadata": {},
   "outputs": [
    {
     "name": "stdout",
     "output_type": "stream",
     "text": [
      "['x'] are to most important features.\n"
     ]
    }
   ],
   "source": [
    "functions = [feature[0] for feature in optimal_features]\n",
    "\n",
    "print(f\"{[func.sympy() for func in functions]} are to most important features.\")"
   ]
  },
  {
   "cell_type": "code",
   "execution_count": 11,
   "metadata": {},
   "outputs": [],
   "source": [
    "model = SymbolicNet(1, len(functions), 1, base_functions)"
   ]
  },
  {
   "cell_type": "code",
   "execution_count": 12,
   "metadata": {},
   "outputs": [],
   "source": [
    "x = x[:, 1].view(-1, 1)\n",
    "y = y[:, 1].view(-1, 1)"
   ]
  },
  {
   "cell_type": "code",
   "execution_count": 14,
   "metadata": {},
   "outputs": [
    {
     "name": "stderr",
     "output_type": "stream",
     "text": [
      "100%|██████████| 49990/49990 [00:05<00:00, 9994.42it/s] \n"
     ]
    },
    {
     "name": "stdout",
     "output_type": "stream",
     "text": [
      "Epoch: 0 Loss: 0.008883344940841198\n"
     ]
    },
    {
     "name": "stderr",
     "output_type": "stream",
     "text": [
      "100%|██████████| 49990/49990 [00:04<00:00, 10008.59it/s]\n",
      "100%|██████████| 49990/49990 [00:04<00:00, 10025.82it/s]\n",
      "100%|██████████| 49990/49990 [00:04<00:00, 10018.03it/s]\n",
      "100%|██████████| 49990/49990 [00:04<00:00, 10063.84it/s]\n",
      "100%|██████████| 49990/49990 [00:04<00:00, 10043.28it/s]\n",
      "100%|██████████| 49990/49990 [00:05<00:00, 9986.30it/s] \n",
      "100%|██████████| 49990/49990 [00:04<00:00, 10028.46it/s]\n",
      "100%|██████████| 49990/49990 [00:04<00:00, 10043.09it/s]\n",
      "100%|██████████| 49990/49990 [00:04<00:00, 10006.51it/s]\n",
      "100%|██████████| 49990/49990 [00:04<00:00, 10045.23it/s]\n",
      "100%|██████████| 49990/49990 [00:05<00:00, 9970.25it/s] \n",
      "100%|██████████| 49990/49990 [00:04<00:00, 10006.97it/s]\n",
      "100%|██████████| 49990/49990 [00:05<00:00, 9937.77it/s] \n",
      "100%|██████████| 49990/49990 [00:05<00:00, 9986.44it/s] \n",
      "100%|██████████| 49990/49990 [00:05<00:00, 9949.85it/s] \n",
      "100%|██████████| 49990/49990 [00:05<00:00, 9991.40it/s] \n",
      "100%|██████████| 49990/49990 [00:04<00:00, 10008.80it/s]\n",
      "100%|██████████| 49990/49990 [00:05<00:00, 9989.10it/s] \n",
      "100%|██████████| 49990/49990 [00:05<00:00, 9950.73it/s] \n",
      "100%|██████████| 49990/49990 [00:05<00:00, 9640.21it/s] \n",
      "100%|██████████| 49990/49990 [00:05<00:00, 9879.45it/s]\n",
      "100%|██████████| 49990/49990 [00:05<00:00, 9952.03it/s] \n",
      "100%|██████████| 49990/49990 [00:05<00:00, 9665.56it/s] \n",
      "100%|██████████| 49990/49990 [00:04<00:00, 10032.64it/s]\n",
      "100%|██████████| 49990/49990 [00:04<00:00, 9999.42it/s] \n",
      "100%|██████████| 49990/49990 [00:04<00:00, 10032.83it/s]\n",
      "100%|██████████| 49990/49990 [00:04<00:00, 10017.66it/s]\n",
      "100%|██████████| 49990/49990 [00:04<00:00, 10021.08it/s]\n",
      "100%|██████████| 49990/49990 [00:04<00:00, 10015.49it/s]\n",
      "100%|██████████| 49990/49990 [00:04<00:00, 10016.29it/s]\n",
      "100%|██████████| 49990/49990 [00:04<00:00, 10024.27it/s]\n",
      "100%|██████████| 49990/49990 [00:05<00:00, 9942.30it/s] \n",
      "100%|██████████| 49990/49990 [00:05<00:00, 9978.04it/s] \n",
      "100%|██████████| 49990/49990 [00:04<00:00, 10005.65it/s]\n",
      "100%|██████████| 49990/49990 [00:05<00:00, 9991.47it/s] \n",
      "100%|██████████| 49990/49990 [00:05<00:00, 9996.20it/s] \n",
      "100%|██████████| 49990/49990 [00:05<00:00, 9978.35it/s] \n",
      "100%|██████████| 49990/49990 [00:04<00:00, 10015.33it/s]\n",
      "100%|██████████| 49990/49990 [00:05<00:00, 9946.00it/s] \n",
      "100%|██████████| 49990/49990 [00:05<00:00, 9957.50it/s] \n",
      "100%|██████████| 49990/49990 [00:04<00:00, 10004.98it/s]\n",
      "100%|██████████| 49990/49990 [00:05<00:00, 9942.07it/s] \n",
      "100%|██████████| 49990/49990 [00:05<00:00, 9953.96it/s] \n",
      "100%|██████████| 49990/49990 [00:05<00:00, 9976.37it/s] \n",
      "100%|██████████| 49990/49990 [00:05<00:00, 9836.92it/s] \n",
      "100%|██████████| 49990/49990 [00:05<00:00, 9987.20it/s] \n",
      "100%|██████████| 49990/49990 [00:04<00:00, 9998.29it/s] \n",
      "100%|██████████| 49990/49990 [00:04<00:00, 10195.08it/s]\n",
      "100%|██████████| 49990/49990 [00:04<00:00, 10298.42it/s]\n"
     ]
    }
   ],
   "source": [
    "model.train(True)\n",
    "model.train_n_epochs(x, y, epochs=50, lr=0.01)"
   ]
  },
  {
   "cell_type": "code",
   "execution_count": 15,
   "metadata": {},
   "outputs": [],
   "source": [
    "weights = model.get_weights()"
   ]
  },
  {
   "cell_type": "code",
   "execution_count": 16,
   "metadata": {},
   "outputs": [
    {
     "name": "stdout",
     "output_type": "stream",
     "text": [
      "Parameter containing:\n",
      "tensor([[ 0.2880, -0.0398]], requires_grad=True)\n"
     ]
    }
   ],
   "source": [
    "print(weights)"
   ]
  },
  {
   "cell_type": "code",
   "execution_count": 17,
   "metadata": {},
   "outputs": [
    {
     "ename": "TypeError",
     "evalue": "iteration over a 0-d tensor",
     "output_type": "error",
     "traceback": [
      "\u001b[0;31m---------------------------------------------------------------------------\u001b[0m",
      "\u001b[0;31mTypeError\u001b[0m                                 Traceback (most recent call last)",
      "Cell \u001b[0;32mIn [17], line 1\u001b[0m\n\u001b[0;32m----> 1\u001b[0m \u001b[38;5;28;01mfor\u001b[39;00m w, f \u001b[38;5;129;01min\u001b[39;00m \u001b[38;5;28mzip\u001b[39m(weights[\u001b[38;5;241m0\u001b[39m][\u001b[38;5;241m0\u001b[39m], model\u001b[38;5;241m.\u001b[39mfunctions):\n\u001b[1;32m      2\u001b[0m     \u001b[38;5;28mprint\u001b[39m(w\u001b[38;5;241m.\u001b[39mitem(), f\u001b[38;5;241m.\u001b[39msympy())\n",
      "File \u001b[0;32m~/mambaforge/envs/DeepSymRegTorch/lib/python3.9/site-packages/torch/_tensor.py:910\u001b[0m, in \u001b[0;36mTensor.__iter__\u001b[0;34m(self)\u001b[0m\n\u001b[1;32m    900\u001b[0m \u001b[39mdef\u001b[39;00m \u001b[39m__iter__\u001b[39m(\u001b[39mself\u001b[39m):\n\u001b[1;32m    901\u001b[0m     \u001b[39m# NB: we use 'imap' and not 'map' here, so that in Python 2 we get a\u001b[39;00m\n\u001b[1;32m    902\u001b[0m     \u001b[39m# generator and don't eagerly perform all the indexes.  This could\u001b[39;00m\n\u001b[0;32m   (...)\u001b[0m\n\u001b[1;32m    907\u001b[0m     \u001b[39m# NB: We have intentionally skipped __torch_function__ dispatch here.\u001b[39;00m\n\u001b[1;32m    908\u001b[0m     \u001b[39m# See gh-54457\u001b[39;00m\n\u001b[1;32m    909\u001b[0m     \u001b[39mif\u001b[39;00m \u001b[39mself\u001b[39m\u001b[39m.\u001b[39mdim() \u001b[39m==\u001b[39m \u001b[39m0\u001b[39m:\n\u001b[0;32m--> 910\u001b[0m         \u001b[39mraise\u001b[39;00m \u001b[39mTypeError\u001b[39;00m(\u001b[39m\"\u001b[39m\u001b[39miteration over a 0-d tensor\u001b[39m\u001b[39m\"\u001b[39m)\n\u001b[1;32m    911\u001b[0m     \u001b[39mif\u001b[39;00m torch\u001b[39m.\u001b[39m_C\u001b[39m.\u001b[39m_get_tracing_state():\n\u001b[1;32m    912\u001b[0m         warnings\u001b[39m.\u001b[39mwarn(\n\u001b[1;32m    913\u001b[0m             \u001b[39m\"\u001b[39m\u001b[39mIterating over a tensor might cause the trace to be incorrect. \u001b[39m\u001b[39m\"\u001b[39m\n\u001b[1;32m    914\u001b[0m             \u001b[39m\"\u001b[39m\u001b[39mPassing a tensor of different shape won\u001b[39m\u001b[39m'\u001b[39m\u001b[39mt change the number of \u001b[39m\u001b[39m\"\u001b[39m\n\u001b[0;32m   (...)\u001b[0m\n\u001b[1;32m    918\u001b[0m             stacklevel\u001b[39m=\u001b[39m\u001b[39m2\u001b[39m,\n\u001b[1;32m    919\u001b[0m         )\n",
      "\u001b[0;31mTypeError\u001b[0m: iteration over a 0-d tensor"
     ]
    }
   ],
   "source": [
    "for w, f in zip(weights[0][0], model.functions):\n",
    "    print(w.item(), f.sympy())\n",
    "    "
   ]
  },
  {
   "cell_type": "code",
   "execution_count": null,
   "metadata": {},
   "outputs": [],
   "source": []
  }
 ],
 "metadata": {
  "kernelspec": {
   "display_name": "Python 3.9.0 ('DeepSymRegTorch')",
   "language": "python",
   "name": "python3"
  },
  "language_info": {
   "codemirror_mode": {
    "name": "ipython",
    "version": 3
   },
   "file_extension": ".py",
   "mimetype": "text/x-python",
   "name": "python",
   "nbconvert_exporter": "python",
   "pygments_lexer": "ipython3",
   "version": "3.9.0"
  },
  "orig_nbformat": 4,
  "vscode": {
   "interpreter": {
    "hash": "6b4db621caefd3705a45ea4d2a14764009383dc3d2acbbbf10d1899e58c43065"
   }
  }
 },
 "nbformat": 4,
 "nbformat_minor": 2
}
