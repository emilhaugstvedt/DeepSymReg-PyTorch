{
 "cells": [
  {
   "cell_type": "code",
   "execution_count": 1,
   "metadata": {},
   "outputs": [],
   "source": [
    "import torch\n",
    "import torch.optim as optim\n",
    "import torch.nn as nn\n",
    "from functions import base_functions\n",
    "from tqdm import tqdm\n",
    "import math"
   ]
  },
  {
   "cell_type": "code",
   "execution_count": 2,
   "metadata": {},
   "outputs": [],
   "source": [
    "class SymbolicLayer(nn.Module):\n",
    "    def __init__(self, input_size, output_size, functions) -> None:\n",
    "        super().__init__()\n",
    "        self.functions = functions\n",
    "        self.n_functions = len(functions)\n",
    "\n",
    "        self.single_input_functions = [f for f in self.functions if f.n_inputs == 1]\n",
    "        self.n_single = len(self.single_input_functions)\n",
    "\n",
    "        self.double_input_functions = [f for f in self.functions if f.n_inputs == 2]\n",
    "        self.n_double = len(self.double_input_functions)\n",
    "\n",
    "        self.n_inputs_func = self.n_single + 2 * self.n_double\n",
    "\n",
    "        weights = torch.Tensor(input_size, self.n_inputs_func)\n",
    "        self.weights = nn.Parameter(weights)\n",
    "        nn.init.kaiming_uniform_(self.weights, a=math.sqrt(5))\n",
    "\n",
    "        self.output = None\n",
    "\n",
    "    def forward(self, x):\n",
    "\n",
    "        self.output = []\n",
    "\n",
    "        x = torch.matmul(x, self.weights)\n",
    "\n",
    "        i_out = i_in = 0\n",
    "\n",
    "        while i_out < self.n_single:\n",
    "            self.output.append(self.single_input_functions[i_out].torch(x[i_in]))\n",
    "            i_out += 1\n",
    "            i_in += 1\n",
    "\n",
    "        while i_out < self.n_functions:\n",
    "            self.output.append(self.double_input_functions[i_out - self.n_single].torch(x[i_in], x[i_in + 1]))\n",
    "            i_out += 1\n",
    "            i_in += 2\n",
    "        \n",
    "        return torch.stack(self.output)\n",
    "\n",
    "    def get_weights(self):\n",
    "        return self.weights"
   ]
  },
  {
   "cell_type": "code",
   "execution_count": 3,
   "metadata": {},
   "outputs": [],
   "source": [
    "class SymbolicNet(torch.nn.Module):\n",
    "    def __init__(self, input_size, hidden_size, output_size, functions: list):\n",
    "        super().__init__()\n",
    "        self.input_size = input_size\n",
    "        self.output_size = output_size\n",
    "        self.functions = functions\n",
    "        self.n_funcs = len(functions)\n",
    "        self.output = nn.Linear(hidden_size, output_size)\n",
    "        self.fc1 = SymbolicLayer(input_size, hidden_size, functions=functions)\n",
    "        self.fc2 = SymbolicLayer(hidden_size, hidden_size, functions=functions)\n",
    "\n",
    "    def forward(self, x):\n",
    "        x = self.fc1(x)\n",
    "        x = self.output(x)\n",
    "        return x\n",
    "    \n",
    "    def train_n_epochs(self, x, y, epochs=100, lr=0.0001):\n",
    "        optimizer = optim.Adam(self.parameters(), lr=lr)\n",
    "        loss_fn = nn.MSELoss()\n",
    "        for epoch in range(epochs):\n",
    "            total_loss = 0 # Storing total loss during training\n",
    "            # Forward pass and weight update for each sample\n",
    "            for i in range(len(x)):\n",
    "                optimizer.zero_grad()\n",
    "                output = self.forward(x[i])\n",
    "                loss = loss_fn(output, y[i])\n",
    "                loss.backward()\n",
    "                optimizer.step()\n",
    "                total_loss += loss.item()\n",
    "        \n",
    "            if epoch % 100 == 0:\n",
    "                print(f'Epoch: {epoch} Loss: {loss.item()}')\n",
    "    \n",
    "    def get_weights(self):\n",
    "        return self.fc1.get_weights(), self.fc2.get_weights(), self.output.weight\n"
   ]
  },
  {
   "cell_type": "code",
   "execution_count": 4,
   "metadata": {},
   "outputs": [],
   "source": [
    "model = SymbolicNet(1, len(base_functions), 1, base_functions)"
   ]
  },
  {
   "cell_type": "code",
   "execution_count": 5,
   "metadata": {},
   "outputs": [
    {
     "data": {
      "text/plain": [
       "tensor([6.9550], grad_fn=<AddBackward0>)"
      ]
     },
     "execution_count": 5,
     "metadata": {},
     "output_type": "execute_result"
    }
   ],
   "source": [
    "model(torch.tensor([10], dtype=torch.float32))"
   ]
  },
  {
   "cell_type": "code",
   "execution_count": 6,
   "metadata": {},
   "outputs": [
    {
     "name": "stderr",
     "output_type": "stream",
     "text": [
      "/tmp/ipykernel_98974/1546148179.py:2: UserWarning: To copy construct from a tensor, it is recommended to use sourceTensor.clone().detach() or sourceTensor.clone().detach().requires_grad_(True), rather than torch.tensor(sourceTensor).\n",
      "  y = torch.tensor(torch.sin(x))\n"
     ]
    },
    {
     "name": "stdout",
     "output_type": "stream",
     "text": [
      "Epoch: 0 Loss: 0.3957529067993164\n",
      "Epoch: 100 Loss: 0.022474229335784912\n",
      "Epoch: 200 Loss: 0.02131063863635063\n",
      "Epoch: 300 Loss: 0.026072992011904716\n",
      "Epoch: 400 Loss: 0.021237004548311234\n"
     ]
    }
   ],
   "source": [
    "x = torch.linspace(-math.pi, math.pi, 30).view(-1, 1)\n",
    "y = torch.tensor(torch.sin(x))\n",
    "\n",
    "model.train(True)\n",
    "model.train_n_epochs(x, y, epochs=500, lr=0.01)"
   ]
  },
  {
   "cell_type": "code",
   "execution_count": 7,
   "metadata": {},
   "outputs": [],
   "source": [
    "weights = model.get_weights()"
   ]
  },
  {
   "cell_type": "code",
   "execution_count": 8,
   "metadata": {},
   "outputs": [
    {
     "name": "stdout",
     "output_type": "stream",
     "text": [
      "0.0196909811347723 x**2\n",
      "0.9432464241981506 sin(x)\n"
     ]
    }
   ],
   "source": [
    "for w, f in zip(weights[0][0], model.functions):\n",
    "    print(w.item(), f.sympy())\n",
    "    "
   ]
  }
 ],
 "metadata": {
  "kernelspec": {
   "display_name": "Python 3.10.4 ('DeepSymRegTorch')",
   "language": "python",
   "name": "python3"
  },
  "language_info": {
   "codemirror_mode": {
    "name": "ipython",
    "version": 3
   },
   "file_extension": ".py",
   "mimetype": "text/x-python",
   "name": "python",
   "nbconvert_exporter": "python",
   "pygments_lexer": "ipython3",
   "version": "3.10.4"
  },
  "orig_nbformat": 4,
  "vscode": {
   "interpreter": {
    "hash": "cfe3f2d034d7f08cf4e8bbdc4fcc7d8751423223aa6c022b5b920f9310d09bb3"
   }
  }
 },
 "nbformat": 4,
 "nbformat_minor": 2
}
